{
 "cells": [
  {
   "cell_type": "markdown",
   "metadata": {},
   "source": [
    "## Determining the (silenced) alerts that fire most often during upgrades\n",
    "\n",
    "### High-level plan\n",
    "- Query observatorium-mst for `sre:slo:upgradeoperator_upgrade_result == 0`\n",
    "  - for each _id as CUUID:\n",
    "    - Query SL-DB for when most recent upgrade started&ended for this $CUUID\n",
    "    - Query telemeter-lts for value of alerts{_id=$CUUID} during upgrade timeframe\n",
    "      - Add cluster's alerts to histogram"
   ]
  },
  {
   "cell_type": "markdown",
   "metadata": {},
   "source": [
    "### ~~Querying Observatorium-MST for UUIDs of clusters that paged during their last upgrade~~"
   ]
  },
  {
   "cell_type": "code",
   "execution_count": null,
   "metadata": {},
   "outputs": [],
   "source": [
    "from datetime import datetime, timedelta\n",
    "from settings import OBSERVATORIUM_URL, OBSERVATORIUM_AUTH_COOKIE\n",
    "from urllib.parse import quote\n",
    "import requests"
   ]
  },
  {
   "cell_type": "code",
   "execution_count": null,
   "metadata": {},
   "outputs": [],
   "source": [
    "# range_start = int((datetime.now() - timedelta(days=60)).timestamp())\n",
    "# range_end = int(datetime.now().timestamp())\n",
    "# observatorium_query = f\"{OBSERVATORIUM_URL}/query_range?start={range_start}&end={range_end}&step=3600&query={quote('sre:slo:upgradeoperator_upgrade_result == 0')}\"\n",
    "# observatorium_results = requests.get(observatorium_query, cookies=OBSERVATORIUM_AUTH_COOKIE).json()\n",
    "# if observatorium_results['status'] != \"success\":\n",
    "#     raise ValueError(\"Observatorium query unsuccessful: \" + str(observatorium_results))\n",
    "# alerting_upgrade_cluster_uuids = set(r['metric']['_id'] for r in observatorium_results['data']['result'])\n",
    "# len(alerting_upgrade_cluster_uuids)"
   ]
  },
  {
   "cell_type": "markdown",
   "metadata": {},
   "source": [
    "Instead of the above approach, let's try using a pre-made list of cluster UUIDs for which an upgrade occurred in the last 90 days. Note that not all clusters in the list still exist"
   ]
  },
  {
   "cell_type": "code",
   "execution_count": null,
   "metadata": {},
   "outputs": [],
   "source": [
    "with open(\"scratch/clusters_upgraded_since_2023-08-02.txt\") as f:\n",
    "    alerting_upgrade_cluster_uuids = set(l.strip() for l in f if len(l) > 10)\n",
    "len(alerting_upgrade_cluster_uuids)"
   ]
  },
  {
   "cell_type": "markdown",
   "metadata": {},
   "source": [
    "Now that we have UUIDs for clusters that paged during their last upgrade, we'll try...\n",
    "### Querying OCM service log API for upgrade time windows "
   ]
  },
  {
   "cell_type": "code",
   "execution_count": null,
   "metadata": {},
   "outputs": [],
   "source": [
    "import re\n",
    "from datetime import timezone\n",
    "from util import OCMClient"
   ]
  },
  {
   "cell_type": "code",
   "execution_count": null,
   "metadata": {},
   "outputs": [],
   "source": [
    "ocm_client = OCMClient()\n",
    "version_regex = re.compile(r\"version '?([-\\w\\.]+)['\\.]\")\n",
    "\n",
    "upgrade_window_dicts = []\n",
    "for cuuid in alerting_upgrade_cluster_uuids:\n",
    "    # Fetch upgrade-related service logs for this cluster\n",
    "    sldb_cuuid = \"cluster_uuid=\" + quote(cuuid)\n",
    "    sldb_search = \"search=\" + quote(\"summary = 'Upgrade maintenance beginning' or summary = 'Upgrade maintenance completed'\")\n",
    "    sldb_response = ocm_client.get(\"/api/service_logs/v1/clusters/cluster_logs?\" + \"&\".join([sldb_cuuid, sldb_search])).json()\n",
    "\n",
    "    # Iterate over fetched service logs to determine latest upgrade start/end times and version\n",
    "    upgrade_start = datetime.min.replace(tzinfo=timezone.utc)\n",
    "    upgrade_end = datetime.min.replace(tzinfo=timezone.utc)\n",
    "    upgrade_version = None\n",
    "    for sl in sldb_response['items']:\n",
    "        sl_timestamp = datetime.fromisoformat(sl['timestamp'].replace(\"Z\", \"+00:00\"))\n",
    "        if sl['summary'] == \"Upgrade maintenance beginning\" and sl_timestamp > upgrade_start:\n",
    "            upgrade_start = sl_timestamp\n",
    "\n",
    "        if sl['summary'] == \"Upgrade maintenance completed\" and sl_timestamp > upgrade_end:\n",
    "            upgrade_end = sl_timestamp\n",
    "            upgrade_version = version_regex.search(sl['description']).group(1)\n",
    "    \n",
    "    #print(f\"Start: {upgrade_start} | End: {upgrade_end} | Version: {upgrade_version}\")\n",
    "    window_dict = {\n",
    "        'uuid': cuuid,\n",
    "        'upgrade_version': upgrade_version,\n",
    "        'upgrade_start': upgrade_start,\n",
    "        'upgrade_end': upgrade_end\n",
    "    }\n",
    "    upgrade_window_dicts.append(window_dict)\n",
    "len(upgrade_window_dicts)"
   ]
  },
  {
   "cell_type": "markdown",
   "metadata": {},
   "source": [
    "Now that we have clusters UUIDs and upgrade start/end times, we'll try...\n",
    "\n",
    "### Querying Telemeter for alerts that fired during upgrades"
   ]
  },
  {
   "cell_type": "code",
   "execution_count": null,
   "metadata": {},
   "outputs": [],
   "source": [
    "from settings import TELEMETER_URL, TELEMETER_AUTH_COOKIE, TELEMETER_CA_BUNDLE_PATH, IGNORED_ALERTS"
   ]
  },
  {
   "cell_type": "code",
   "execution_count": null,
   "metadata": {},
   "outputs": [],
   "source": [
    "alert_dicts = []\n",
    "for uwd in upgrade_window_dicts:\n",
    "    range_start = int(uwd['upgrade_start'].timestamp())\n",
    "    range_end = int(uwd['upgrade_end'].timestamp())\n",
    "    promql = \"alerts{_id=\\\"\" + uwd['uuid'] + \"\\\"}\"\n",
    "    telemeter_query = f\"{TELEMETER_URL}/query_range?query={quote(promql)}&start={range_start}&end={range_end}&step=3600\" \n",
    "    try:\n",
    "        telemeter_results = requests.get(telemeter_query, cookies=TELEMETER_AUTH_COOKIE, verify=TELEMETER_CA_BUNDLE_PATH).json()\n",
    "        if telemeter_results['status'] != \"success\":\n",
    "            raise ValueError(\"Telemeter query unsuccessful: \" + str(telemeter_results))\n",
    "    except ValueError as ex:\n",
    "                print(f\"WARN: Couldn't process alert due to JSONDecodeError: {ex}\")\n",
    "    for tr in telemeter_results['data']['result']:\n",
    "        if tr['metric']['alertname'] not in IGNORED_ALERTS:\n",
    "            try:\n",
    "                alert_dicts.append({\n",
    "                    'name': tr['metric']['alertname'],\n",
    "                    'severity': tr['metric']['severity'],\n",
    "                    'namespace': tr['metric']['namespace'],\n",
    "                    'upgrade_version': uwd['upgrade_version'],\n",
    "                    'upgrade_timestamp': uwd['upgrade_start'],\n",
    "                    'cluster_uuid': uwd['uuid']\n",
    "                })\n",
    "            except KeyError as ex:\n",
    "                print(f\"WARN: Couldn't process alert due to missing {ex}: {tr['metric']}\")\n",
    "len(alert_dicts)"
   ]
  },
  {
   "cell_type": "markdown",
   "metadata": {},
   "source": [
    "Now that we have a list of every instance of an alert firing during a failed upgrade, we'll try...\n",
    "### Analyzing alerts with NumPy"
   ]
  },
  {
   "cell_type": "code",
   "execution_count": null,
   "metadata": {},
   "outputs": [],
   "source": [
    "import numpy as np\n",
    "import pandas as pd"
   ]
  },
  {
   "cell_type": "code",
   "execution_count": null,
   "metadata": {},
   "outputs": [],
   "source": [
    "alerts_df = pd.DataFrame(alert_dicts).drop_duplicates(ignore_index=True)\n",
    "alerts_df"
   ]
  },
  {
   "cell_type": "code",
   "execution_count": null,
   "metadata": {},
   "outputs": [],
   "source": [
    "histogram = alerts_df.value_counts(subset=[\"name\", \"severity\", \"namespace\"]).to_frame().reset_index()\n",
    "pd.set_option('display.max_rows', 800)\n",
    "histogram[histogram['count'] > 5]"
   ]
  },
  {
   "cell_type": "code",
   "execution_count": null,
   "metadata": {},
   "outputs": [],
   "source": [
    "\", \".join(IGNORED_ALERTS)"
   ]
  }
 ],
 "metadata": {
  "kernelspec": {
   "display_name": ".venv",
   "language": "python",
   "name": "python3"
  },
  "language_info": {
   "codemirror_mode": {
    "name": "ipython",
    "version": 3
   },
   "file_extension": ".py",
   "mimetype": "text/x-python",
   "name": "python",
   "nbconvert_exporter": "python",
   "pygments_lexer": "ipython3",
   "version": "3.11.5"
  }
 },
 "nbformat": 4,
 "nbformat_minor": 2
}
