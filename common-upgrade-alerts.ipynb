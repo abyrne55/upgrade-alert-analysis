{
 "cells": [
  {
   "cell_type": "markdown",
   "metadata": {},
   "source": [
    "## Determining the (silenced) alerts that fire most often during upgrades\n",
    "\n",
    "### High-level plan\n",
    "- Query observatorium-mst for `sre:slo:upgradeoperator_upgrade_result == 0`\n",
    "  - for each _id as CUUID:\n",
    "    - Query SL-DB for when most recent upgrade started&ended for this $CUUID\n",
    "    - Query telemeter-lts for value of alerts{_id=$CUUID} during upgrade timeframe\n",
    "      - Add cluster's alerts to histogram"
   ]
  },
  {
   "cell_type": "markdown",
   "metadata": {},
   "source": [
    "### Querying Observatorium-MST for UUIDs of clusters that paged during their last upgrade"
   ]
  },
  {
   "cell_type": "code",
   "execution_count": null,
   "metadata": {},
   "outputs": [],
   "source": [
    "from settings import OBSERVATORIUM_URL, OBSERVATORIUM_AUTH_COOKIE\n",
    "from urllib.parse import quote\n",
    "import requests"
   ]
  },
  {
   "cell_type": "code",
   "execution_count": null,
   "metadata": {},
   "outputs": [],
   "source": [
    "observatorium_query = OBSERVATORIUM_URL + \"/query?query=\" + quote(\"sre:slo:upgradeoperator_upgrade_result == 0\")\n",
    "observatorium_results = requests.get(observatorium_query, cookies=OBSERVATORIUM_AUTH_COOKIE).json()\n",
    "if observatorium_results['status'] != \"success\":\n",
    "    raise ValueError(\"Observatorium query unsuccessful: \" + str(observatorium_results))\n",
    "observatorium_results['data']['result'][0]['metric']['_id']"
   ]
  },
  {
   "cell_type": "code",
   "execution_count": null,
   "metadata": {},
   "outputs": [],
   "source": [
    "alerting_upgrade_cluster_uuids = set(r['metric']['_id'] for r in observatorium_results['data']['result'])\n",
    "set(alerting_upgrade_cluster_uuids)"
   ]
  },
  {
   "cell_type": "markdown",
   "metadata": {},
   "source": [
    "Now that we have UUIDs for clusters that paged during their last upgrade, we'll try...\n",
    "### Querying OCM service log API for upgrade time windows "
   ]
  },
  {
   "cell_type": "code",
   "execution_count": null,
   "metadata": {},
   "outputs": [],
   "source": [
    "import re\n",
    "from datetime import datetime, timezone\n",
    "from util import OCMClient"
   ]
  },
  {
   "cell_type": "code",
   "execution_count": null,
   "metadata": {},
   "outputs": [],
   "source": [
    "ocm_client = OCMClient()\n",
    "version_regex = re.compile(\"version '([-\\w\\.]+)'\")\n",
    "\n",
    "upgrade_window_dicts = []\n",
    "for cuuid in alerting_upgrade_cluster_uuids:\n",
    "    # Fetch upgrade-related service logs for this cluster\n",
    "    sldb_query = quote(f\"cluster_uuid = '{cuuid}' and (summary = 'Upgrade maintenance beginning' or summary = 'Upgrade maintenance completed')\")\n",
    "    sldb_response = ocm_client.get(\"/api/service_logs/v1/cluster_logs?search=\" + sldb_query).json()\n",
    "\n",
    "    # Iterate over fetched service logs to determine latest upgrade start/end times and version\n",
    "    upgrade_start = datetime.min.replace(tzinfo=timezone.utc)\n",
    "    upgrade_end = datetime.min.replace(tzinfo=timezone.utc)\n",
    "    upgrade_version = None\n",
    "    for sl in sldb_response['items']:\n",
    "        sl_timestamp = datetime.fromisoformat(sl['timestamp'].replace(\"Z\", \"+00:00\"))\n",
    "        if sl['summary'] == \"Upgrade maintenance beginning\" and sl_timestamp > upgrade_start:\n",
    "            upgrade_start = sl_timestamp\n",
    "\n",
    "        if sl['summary'] == \"Upgrade maintenance completed\" and sl_timestamp > upgrade_end:\n",
    "            upgrade_end = sl_timestamp\n",
    "            upgrade_version = version_regex.search(sl['description']).group(1)\n",
    "    \n",
    "    #print(f\"Start: {upgrade_start} | End: {upgrade_end} | Version: {upgrade_version}\")\n",
    "    window_dict = {\n",
    "        'uuid': cuuid,\n",
    "        'upgrade_version': upgrade_version,\n",
    "        'upgrade_start': upgrade_start,\n",
    "        'upgrade_end': upgrade_end\n",
    "    }\n",
    "    upgrade_window_dicts.append(window_dict)\n",
    "upgrade_window_dicts"
   ]
  },
  {
   "cell_type": "markdown",
   "metadata": {},
   "source": [
    "Now that we have clusters UUIDs and upgrade start/end times, we'll try...\n",
    "\n",
    "### Querying Telemeter for alerts that fired during upgrades"
   ]
  },
  {
   "cell_type": "code",
   "execution_count": null,
   "metadata": {},
   "outputs": [],
   "source": [
    "from settings import TELEMETER_URL, TELEMETER_AUTH_COOKIE, TELEMETER_CA_BUNDLE_PATH"
   ]
  },
  {
   "cell_type": "code",
   "execution_count": null,
   "metadata": {},
   "outputs": [],
   "source": [
    "range_start = int(upgrade_window_dicts[0]['upgrade_start'].timestamp())\n",
    "range_end = int(upgrade_window_dicts[0]['upgrade_end'].timestamp())\n",
    "promql = \"alerts{_id=\\\"\" + upgrade_window_dicts[0]['uuid'] + \"\\\"}\"\n",
    "telemeter_query = f\"{TELEMETER_URL}/query_range?query={quote(promql)}&start={range_start}&end={range_end}&step=3600\" \n",
    "telemeter_results = requests.get(telemeter_query, cookies=TELEMETER_AUTH_COOKIE, verify=TELEMETER_CA_BUNDLE_PATH).json()\n",
    "if telemeter_results['status'] != \"success\":\n",
    "    raise ValueError(\"Telemeter query unsuccessful: \" + str(telemeter_results))\n",
    "telemeter_results"
   ]
  }
 ],
 "metadata": {
  "kernelspec": {
   "display_name": ".venv",
   "language": "python",
   "name": "python3"
  },
  "language_info": {
   "codemirror_mode": {
    "name": "ipython",
    "version": 3
   },
   "file_extension": ".py",
   "mimetype": "text/x-python",
   "name": "python",
   "nbconvert_exporter": "python",
   "pygments_lexer": "ipython3",
   "version": "3.11.5"
  }
 },
 "nbformat": 4,
 "nbformat_minor": 2
}
